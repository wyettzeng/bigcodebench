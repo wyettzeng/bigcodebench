{
 "cells": [
  {
   "cell_type": "code",
   "execution_count": 25,
   "id": "018a63ff-9a0a-4cf3-a8bc-0aefd93721b5",
   "metadata": {},
   "outputs": [],
   "source": [
    "from glob import glob\n",
    "import json\n",
    "import os"
   ]
  },
  {
   "cell_type": "code",
   "execution_count": 26,
   "id": "5e9b0178-9e27-4f6c-bf01-4bbd21a8f4c2",
   "metadata": {},
   "outputs": [],
   "source": [
    "folder = \"/home/ma-user/work/haozhe/workspace/aacodeRL/evaluation_for_codeRL/bigcodebench/bcb_results\""
   ]
  },
  {
   "cell_type": "code",
   "execution_count": 27,
   "id": "a54cb8d2-05ee-4c0c-9a32-cdb8e4e13a60",
   "metadata": {},
   "outputs": [],
   "source": [
    "results = glob(folder+'/*results.json')"
   ]
  },
  {
   "cell_type": "code",
   "execution_count": 28,
   "id": "a7c7df06-134a-452f-866e-564595f7d56e",
   "metadata": {},
   "outputs": [
    {
     "data": {
      "text/plain": [
       "16"
      ]
     },
     "execution_count": 28,
     "metadata": {},
     "output_type": "execute_result"
    }
   ],
   "source": [
    "len(results)"
   ]
  },
  {
   "cell_type": "code",
   "execution_count": 29,
   "id": "4374573e-82b6-44cb-ad02-df4a6a1d55bc",
   "metadata": {},
   "outputs": [
    {
     "data": {
      "text/plain": [
       "['/home/ma-user/work/haozhe/workspace/aacodeRL/evaluation_for_codeRL/bigcodebench/bcb_results/checkpoint-300--main--bigcodebench-instruct--vllm-0-1-sanitized_calibrated_eval_results.json',\n",
       " '/home/ma-user/work/haozhe/workspace/aacodeRL/evaluation_for_codeRL/bigcodebench/bcb_results/Qwen2.5-Coder-7B-Instruct--main--bigcodebench-instruct--vllm-0-1-sanitized_calibrated_eval_results.json',\n",
       " '/home/ma-user/work/haozhe/workspace/aacodeRL/evaluation_for_codeRL/bigcodebench/bcb_results/checkpoint-900--main--bigcodebench-hard-complete--vllm-0-1-sanitized_calibrated_eval_results.json',\n",
       " '/home/ma-user/work/haozhe/workspace/aacodeRL/evaluation_for_codeRL/bigcodebench/bcb_results/checkpoint-900--main--bigcodebench-complete--vllm-0-1-sanitized_calibrated_eval_results.json',\n",
       " '/home/ma-user/work/haozhe/workspace/aacodeRL/evaluation_for_codeRL/bigcodebench/bcb_results/checkpoint-600--main--bigcodebench-hard-complete--vllm-0-1-sanitized_calibrated_eval_results.json',\n",
       " '/home/ma-user/work/haozhe/workspace/aacodeRL/evaluation_for_codeRL/bigcodebench/bcb_results/checkpoint-300--main--bigcodebench-complete--vllm-0-1-sanitized_calibrated_eval_results.json',\n",
       " '/home/ma-user/work/haozhe/workspace/aacodeRL/evaluation_for_codeRL/bigcodebench/bcb_results/checkpoint-300--main--bigcodebench-hard-complete--vllm-0-1-sanitized_calibrated_eval_results.json',\n",
       " '/home/ma-user/work/haozhe/workspace/aacodeRL/evaluation_for_codeRL/bigcodebench/bcb_results/Qwen2.5-Coder-7B-Instruct--main--bigcodebench-complete--vllm-0-1-sanitized_calibrated_eval_results.json',\n",
       " '/home/ma-user/work/haozhe/workspace/aacodeRL/evaluation_for_codeRL/bigcodebench/bcb_results/Qwen2.5-Coder-7B-Instruct--main--bigcodebench-hard-instruct--vllm-0-1-sanitized_calibrated_eval_results.json',\n",
       " '/home/ma-user/work/haozhe/workspace/aacodeRL/evaluation_for_codeRL/bigcodebench/bcb_results/checkpoint-600--main--bigcodebench-instruct--vllm-0-1-sanitized_calibrated_eval_results.json',\n",
       " '/home/ma-user/work/haozhe/workspace/aacodeRL/evaluation_for_codeRL/bigcodebench/bcb_results/checkpoint-900--main--bigcodebench-instruct--vllm-0-1-sanitized_calibrated_eval_results.json',\n",
       " '/home/ma-user/work/haozhe/workspace/aacodeRL/evaluation_for_codeRL/bigcodebench/bcb_results/checkpoint-600--main--bigcodebench-complete--vllm-0-1-sanitized_calibrated_eval_results.json',\n",
       " '/home/ma-user/work/haozhe/workspace/aacodeRL/evaluation_for_codeRL/bigcodebench/bcb_results/checkpoint-300--main--bigcodebench-hard-instruct--vllm-0-1-sanitized_calibrated_eval_results.json',\n",
       " '/home/ma-user/work/haozhe/workspace/aacodeRL/evaluation_for_codeRL/bigcodebench/bcb_results/checkpoint-600--main--bigcodebench-hard-instruct--vllm-0-1-sanitized_calibrated_eval_results.json',\n",
       " '/home/ma-user/work/haozhe/workspace/aacodeRL/evaluation_for_codeRL/bigcodebench/bcb_results/Qwen2.5-Coder-7B-Instruct--main--bigcodebench-hard-complete--vllm-0-1-sanitized_calibrated_eval_results.json',\n",
       " '/home/ma-user/work/haozhe/workspace/aacodeRL/evaluation_for_codeRL/bigcodebench/bcb_results/checkpoint-900--main--bigcodebench-hard-instruct--vllm-0-1-sanitized_calibrated_eval_results.json']"
      ]
     },
     "execution_count": 29,
     "metadata": {},
     "output_type": "execute_result"
    }
   ],
   "source": [
    "results"
   ]
  },
  {
   "cell_type": "code",
   "execution_count": 30,
   "id": "8203d353-8ec6-4506-9dbf-5a6c6b54956a",
   "metadata": {},
   "outputs": [],
   "source": [
    "def parse(fp):\n",
    "    fields = fp.split('--')\n",
    "    ver1 = 'hard' if 'hard' in fp else 'full'\n",
    "    ver2 = 'complete' if 'complete' in fp else 'instruct'\n",
    "    for idx,ff in enumerate(fields):\n",
    "        if ff=='main': break\n",
    "    modelname = fields[idx-1]\n",
    "    return modelname.split(os.path.sep)[-1], ver1, ver2"
   ]
  },
  {
   "cell_type": "code",
   "execution_count": 31,
   "id": "a04ea15d-d836-4381-887b-15053078a1fb",
   "metadata": {},
   "outputs": [
    {
     "data": {
      "text/plain": [
       "[('checkpoint-300', 'full', 'instruct'),\n",
       " ('Qwen2.5-Coder-7B-Instruct', 'full', 'instruct'),\n",
       " ('checkpoint-900', 'hard', 'complete'),\n",
       " ('checkpoint-900', 'full', 'complete'),\n",
       " ('checkpoint-600', 'hard', 'complete'),\n",
       " ('checkpoint-300', 'full', 'complete'),\n",
       " ('checkpoint-300', 'hard', 'complete'),\n",
       " ('Qwen2.5-Coder-7B-Instruct', 'full', 'complete'),\n",
       " ('Qwen2.5-Coder-7B-Instruct', 'hard', 'instruct'),\n",
       " ('checkpoint-600', 'full', 'instruct'),\n",
       " ('checkpoint-900', 'full', 'instruct'),\n",
       " ('checkpoint-600', 'full', 'complete'),\n",
       " ('checkpoint-300', 'hard', 'instruct'),\n",
       " ('checkpoint-600', 'hard', 'instruct'),\n",
       " ('Qwen2.5-Coder-7B-Instruct', 'hard', 'complete'),\n",
       " ('checkpoint-900', 'hard', 'instruct')]"
      ]
     },
     "execution_count": 31,
     "metadata": {},
     "output_type": "execute_result"
    }
   ],
   "source": [
    "[parse(x) for x in results]"
   ]
  },
  {
   "cell_type": "code",
   "execution_count": 32,
   "id": "51e767c8-098c-4250-a2e4-abb6efd732b9",
   "metadata": {},
   "outputs": [],
   "source": [
    "data = json.load(open(results[0]))"
   ]
  },
  {
   "cell_type": "code",
   "execution_count": 33,
   "id": "1ad616d7-95e6-4595-b8c0-b333309b6273",
   "metadata": {},
   "outputs": [
    {
     "data": {
      "text/plain": [
       "'timeout'"
      ]
     },
     "execution_count": 33,
     "metadata": {},
     "output_type": "execute_result"
    }
   ],
   "source": [
    "data['eval']['BigCodeBench/19'][0]['status']"
   ]
  },
  {
   "cell_type": "code",
   "execution_count": 34,
   "id": "e8ff8b8a-d0bb-4bd5-b1c2-0e013df79f09",
   "metadata": {},
   "outputs": [],
   "source": [
    "infos = []\n",
    "for fp in results:\n",
    "    data = json.load(open(fp))\n",
    "    outcomes = []\n",
    "    for k,vlist in data['eval'].items():\n",
    "        outcomes.append(vlist[0]['status'])\n",
    "    modelname, subset, task = parse(fp)\n",
    "    npass = sum([x=='pass' for x in outcomes])\n",
    "    info = dict(modelname=modelname,\n",
    "               subset=subset,\n",
    "               task=task,\n",
    "                npass=npass,\n",
    "                acc=npass/len(outcomes),\n",
    "                total=len(outcomes)\n",
    "               )\n",
    "    infos.append(info)"
   ]
  },
  {
   "cell_type": "code",
   "execution_count": 35,
   "id": "9ff03c7d-69b9-4ee7-8d19-2a577382617b",
   "metadata": {},
   "outputs": [],
   "source": [
    "import pandas as pd"
   ]
  },
  {
   "cell_type": "code",
   "execution_count": 36,
   "id": "993924c9-8f52-49a0-87e8-1911cebf3224",
   "metadata": {},
   "outputs": [
    {
     "data": {
      "text/html": [
       "<div>\n",
       "<style scoped>\n",
       "    .dataframe tbody tr th:only-of-type {\n",
       "        vertical-align: middle;\n",
       "    }\n",
       "\n",
       "    .dataframe tbody tr th {\n",
       "        vertical-align: top;\n",
       "    }\n",
       "\n",
       "    .dataframe thead th {\n",
       "        text-align: right;\n",
       "    }\n",
       "</style>\n",
       "<table border=\"1\" class=\"dataframe\">\n",
       "  <thead>\n",
       "    <tr style=\"text-align: right;\">\n",
       "      <th></th>\n",
       "      <th>modelname</th>\n",
       "      <th>subset</th>\n",
       "      <th>task</th>\n",
       "      <th>npass</th>\n",
       "      <th>acc</th>\n",
       "      <th>total</th>\n",
       "    </tr>\n",
       "  </thead>\n",
       "  <tbody>\n",
       "    <tr>\n",
       "      <th>7</th>\n",
       "      <td>Qwen2.5-Coder-7B-Instruct</td>\n",
       "      <td>full</td>\n",
       "      <td>complete</td>\n",
       "      <td>0</td>\n",
       "      <td>0.000000</td>\n",
       "      <td>1140</td>\n",
       "    </tr>\n",
       "    <tr>\n",
       "      <th>5</th>\n",
       "      <td>checkpoint-300</td>\n",
       "      <td>full</td>\n",
       "      <td>complete</td>\n",
       "      <td>0</td>\n",
       "      <td>0.000000</td>\n",
       "      <td>1140</td>\n",
       "    </tr>\n",
       "    <tr>\n",
       "      <th>11</th>\n",
       "      <td>checkpoint-600</td>\n",
       "      <td>full</td>\n",
       "      <td>complete</td>\n",
       "      <td>0</td>\n",
       "      <td>0.000000</td>\n",
       "      <td>1140</td>\n",
       "    </tr>\n",
       "    <tr>\n",
       "      <th>3</th>\n",
       "      <td>checkpoint-900</td>\n",
       "      <td>full</td>\n",
       "      <td>complete</td>\n",
       "      <td>0</td>\n",
       "      <td>0.000000</td>\n",
       "      <td>1140</td>\n",
       "    </tr>\n",
       "    <tr>\n",
       "      <th>1</th>\n",
       "      <td>Qwen2.5-Coder-7B-Instruct</td>\n",
       "      <td>full</td>\n",
       "      <td>instruct</td>\n",
       "      <td>476</td>\n",
       "      <td>0.417544</td>\n",
       "      <td>1140</td>\n",
       "    </tr>\n",
       "    <tr>\n",
       "      <th>0</th>\n",
       "      <td>checkpoint-300</td>\n",
       "      <td>full</td>\n",
       "      <td>instruct</td>\n",
       "      <td>0</td>\n",
       "      <td>0.000000</td>\n",
       "      <td>1140</td>\n",
       "    </tr>\n",
       "    <tr>\n",
       "      <th>9</th>\n",
       "      <td>checkpoint-600</td>\n",
       "      <td>full</td>\n",
       "      <td>instruct</td>\n",
       "      <td>0</td>\n",
       "      <td>0.000000</td>\n",
       "      <td>1140</td>\n",
       "    </tr>\n",
       "    <tr>\n",
       "      <th>10</th>\n",
       "      <td>checkpoint-900</td>\n",
       "      <td>full</td>\n",
       "      <td>instruct</td>\n",
       "      <td>0</td>\n",
       "      <td>0.000000</td>\n",
       "      <td>1140</td>\n",
       "    </tr>\n",
       "    <tr>\n",
       "      <th>14</th>\n",
       "      <td>Qwen2.5-Coder-7B-Instruct</td>\n",
       "      <td>hard</td>\n",
       "      <td>complete</td>\n",
       "      <td>0</td>\n",
       "      <td>0.000000</td>\n",
       "      <td>148</td>\n",
       "    </tr>\n",
       "    <tr>\n",
       "      <th>6</th>\n",
       "      <td>checkpoint-300</td>\n",
       "      <td>hard</td>\n",
       "      <td>complete</td>\n",
       "      <td>0</td>\n",
       "      <td>0.000000</td>\n",
       "      <td>148</td>\n",
       "    </tr>\n",
       "    <tr>\n",
       "      <th>4</th>\n",
       "      <td>checkpoint-600</td>\n",
       "      <td>hard</td>\n",
       "      <td>complete</td>\n",
       "      <td>0</td>\n",
       "      <td>0.000000</td>\n",
       "      <td>148</td>\n",
       "    </tr>\n",
       "    <tr>\n",
       "      <th>2</th>\n",
       "      <td>checkpoint-900</td>\n",
       "      <td>hard</td>\n",
       "      <td>complete</td>\n",
       "      <td>0</td>\n",
       "      <td>0.000000</td>\n",
       "      <td>148</td>\n",
       "    </tr>\n",
       "    <tr>\n",
       "      <th>8</th>\n",
       "      <td>Qwen2.5-Coder-7B-Instruct</td>\n",
       "      <td>hard</td>\n",
       "      <td>instruct</td>\n",
       "      <td>30</td>\n",
       "      <td>0.202703</td>\n",
       "      <td>148</td>\n",
       "    </tr>\n",
       "    <tr>\n",
       "      <th>12</th>\n",
       "      <td>checkpoint-300</td>\n",
       "      <td>hard</td>\n",
       "      <td>instruct</td>\n",
       "      <td>0</td>\n",
       "      <td>0.000000</td>\n",
       "      <td>148</td>\n",
       "    </tr>\n",
       "    <tr>\n",
       "      <th>13</th>\n",
       "      <td>checkpoint-600</td>\n",
       "      <td>hard</td>\n",
       "      <td>instruct</td>\n",
       "      <td>0</td>\n",
       "      <td>0.000000</td>\n",
       "      <td>148</td>\n",
       "    </tr>\n",
       "    <tr>\n",
       "      <th>15</th>\n",
       "      <td>checkpoint-900</td>\n",
       "      <td>hard</td>\n",
       "      <td>instruct</td>\n",
       "      <td>0</td>\n",
       "      <td>0.000000</td>\n",
       "      <td>148</td>\n",
       "    </tr>\n",
       "  </tbody>\n",
       "</table>\n",
       "</div>"
      ],
      "text/plain": [
       "                    modelname subset      task  npass       acc  total\n",
       "7   Qwen2.5-Coder-7B-Instruct   full  complete      0  0.000000   1140\n",
       "5              checkpoint-300   full  complete      0  0.000000   1140\n",
       "11             checkpoint-600   full  complete      0  0.000000   1140\n",
       "3              checkpoint-900   full  complete      0  0.000000   1140\n",
       "1   Qwen2.5-Coder-7B-Instruct   full  instruct    476  0.417544   1140\n",
       "0              checkpoint-300   full  instruct      0  0.000000   1140\n",
       "9              checkpoint-600   full  instruct      0  0.000000   1140\n",
       "10             checkpoint-900   full  instruct      0  0.000000   1140\n",
       "14  Qwen2.5-Coder-7B-Instruct   hard  complete      0  0.000000    148\n",
       "6              checkpoint-300   hard  complete      0  0.000000    148\n",
       "4              checkpoint-600   hard  complete      0  0.000000    148\n",
       "2              checkpoint-900   hard  complete      0  0.000000    148\n",
       "8   Qwen2.5-Coder-7B-Instruct   hard  instruct     30  0.202703    148\n",
       "12             checkpoint-300   hard  instruct      0  0.000000    148\n",
       "13             checkpoint-600   hard  instruct      0  0.000000    148\n",
       "15             checkpoint-900   hard  instruct      0  0.000000    148"
      ]
     },
     "execution_count": 36,
     "metadata": {},
     "output_type": "execute_result"
    }
   ],
   "source": [
    "pd.DataFrame(infos).sort_values(['subset','task','modelname'])"
   ]
  },
  {
   "cell_type": "code",
   "execution_count": null,
   "id": "c677bf79-4923-4e5f-a4c5-efa1058cfe5a",
   "metadata": {},
   "outputs": [],
   "source": []
  }
 ],
 "metadata": {
  "kernelspec": {
   "display_name": "4dgs",
   "language": "python",
   "name": "4dgs"
  },
  "language_info": {
   "codemirror_mode": {
    "name": "ipython",
    "version": 3
   },
   "file_extension": ".py",
   "mimetype": "text/x-python",
   "name": "python",
   "nbconvert_exporter": "python",
   "pygments_lexer": "ipython3",
   "version": "3.7.16"
  }
 },
 "nbformat": 4,
 "nbformat_minor": 5
}
